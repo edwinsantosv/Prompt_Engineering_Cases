{
 "cells": [
  {
   "cell_type": "code",
   "execution_count": 21,
   "metadata": {},
   "outputs": [],
   "source": [
    "import openai\n",
    "import os\n",
    "import json\n",
    "from langchain.chat_models import ChatOpenAI\n",
    "from langchain.prompts import ChatPromptTemplate, PromptTemplate\n",
    "from langchain.output_parsers import ResponseSchema\n",
    "from langchain.output_parsers import StructuredOutputParser\n",
    "from IPython.display import display, Markdown, Latex, HTML, JSON \n",
    "from langchain.chains import LLMChain, SimpleSequentialChain\n",
    "from langchain.chains.router.llm_router import LLMRouterChain,RouterOutputParser\n",
    "from langchain.chains.router import MultiPromptChain\n",
    "from langchain.memory import ConversationBufferMemory\n",
    "from langchain.chains import ConversationChain\n",
    "\n",
    "# Open the JSON file\n",
    "with open('/Users/edwin/Repositories/api_keys.json') as file:\n",
    "    data = json.load(file)\n",
    "\n",
    "# Access the API keys\n",
    "openai.api_key= data['apiKeys']['OpenAI']"
   ]
  },
  {
   "cell_type": "code",
   "execution_count": 3,
   "metadata": {},
   "outputs": [],
   "source": [
    "data_scientist_template = \"\"\"You are a very smart data scientist. \\\n",
    "Your work is characterized by creativity, collaboration, problem-solving,\\\n",
    "and a deep understanding of mathematics, statistics, and programming. \\\n",
    "You are so good because you are able to break down\\\n",
    "hard problems into their component parts, \n",
    "answer the component parts, and then put them together\\\n",
    "to answer the broader question.\n",
    "\n",
    "Here is a question:\n",
    "{input}\"\"\"\n",
    "\n",
    "\n",
    "data_engineer = \"\"\"You are a very good data engineer. \\\n",
    "You are great at answering questions about how to build systems for collecting, storing and analyzing data at scale. \\\n",
    "You are so good because you are able to explain everything in a very structured and easy to understand manner.\\\n",
    "Also you know about different softwares that can be used\\\n",
    "and give the best suggestions based in your experience. \n",
    "\n",
    "Here is a question:\n",
    "{input}\"\"\"\n",
    "\n",
    "scrum_master = \"\"\"You are a very experienced Scrum Master. As this, you are an agile project management expert. \\\n",
    "Your role involves solving questions about how to facilitate teamwork, \\ \n",
    "promote agile practices, and remove obstacles. \n",
    "\n",
    "Here is a question:\n",
    "{input}\"\"\"\n",
    "\n",
    "\n",
    "project_manager_template = \"\"\" You are an accomplished project manager. \\\n",
    "You possess a fervent enthusiasm for innovation, teamwork, strategic vision,\\\n",
    "self-assurance, adeptness in troubleshooting, comprehension of methodologies\\\n",
    "and workflows, and outstanding interpersonal abilities. Your expertise extends\\\n",
    "beyond mere coding questions, as you excel in coordinating and orchestrating projects effectively. \\\n",
    "Your proficiency lies in articulating solutions to complex problems through sequential, \\\n",
    "machine-interpretable steps while meticulously selecting approaches that strike a \\\n",
    "harmonious equilibrium between time and space complexities.\n",
    "\n",
    "Here is a question:\n",
    "{input}\"\"\""
   ]
  },
  {
   "cell_type": "code",
   "execution_count": 5,
   "metadata": {},
   "outputs": [],
   "source": [
    "prompt_infos = [\n",
    "    {\n",
    "        \"name\": \"data science\", \n",
    "        \"description\": \"Good for answering questions about mathematics, statistics, and programming\", \n",
    "        \"prompt_template\": data_scientist_template\n",
    "    },\n",
    "    {\n",
    "        \"name\": \"data engineering\", \n",
    "        \"description\": \"Good for answering data engineering questions\", \n",
    "        \"prompt_template\": data_engineer\n",
    "    },\n",
    "    {\n",
    "        \"name\": \"scrum\", \n",
    "        \"description\": \"Good for answering scrum questions\", \n",
    "        \"prompt_template\": scrum_master\n",
    "    },\n",
    "    {\n",
    "        \"name\": \"project management\", \n",
    "        \"description\": \"Good for answering project management questions\", \n",
    "        \"prompt_template\": project_manager_template\n",
    "    }\n",
    "]"
   ]
  },
  {
   "cell_type": "code",
   "execution_count": 22,
   "metadata": {},
   "outputs": [],
   "source": [
    "llm = ChatOpenAI(temperature=0,openai_api_key=data['apiKeys']['OpenAI'])\n",
    "memory = ConversationBufferMemory()\n",
    "conversation = ConversationChain(\n",
    "    llm=llm, \n",
    "    memory = memory,\n",
    "    verbose=True\n",
    ")"
   ]
  },
  {
   "cell_type": "code",
   "execution_count": 23,
   "metadata": {},
   "outputs": [],
   "source": [
    "destination_chains = {}\n",
    "for p_info in prompt_infos:\n",
    "    name = p_info[\"name\"]\n",
    "    prompt_template = p_info[\"prompt_template\"]\n",
    "    prompt = ChatPromptTemplate.from_template(template=prompt_template)\n",
    "    chain = LLMChain(llm=llm, prompt=prompt)\n",
    "    destination_chains[name] = chain  \n",
    "    \n",
    "destinations = [f\"{p['name']}: {p['description']}\" for p in prompt_infos]\n",
    "destinations_str = \"\\n\".join(destinations)"
   ]
  },
  {
   "cell_type": "code",
   "execution_count": 24,
   "metadata": {},
   "outputs": [],
   "source": [
    "default_prompt = ChatPromptTemplate.from_template(\"{input}\")\n",
    "default_chain = LLMChain(llm=llm, prompt=default_prompt)"
   ]
  },
  {
   "cell_type": "code",
   "execution_count": 25,
   "metadata": {},
   "outputs": [],
   "source": [
    "MULTI_PROMPT_ROUTER_TEMPLATE = \"\"\"Given a raw text input to a \\\n",
    "language model select the model prompt best suited for the input. \\\n",
    "You will be given the names of the available prompts and a \\\n",
    "description of what the prompt is best suited for. \\\n",
    "You may also revise the original input if you think that revising\\\n",
    "it will ultimately lead to a better response from the language model.\n",
    "\n",
    "<< FORMATTING >>\n",
    "Return a markdown code snippet with a JSON object formatted to look like:\n",
    "```json\n",
    "{{{{\n",
    "    \"destination\": string \\ name of the prompt to use or \"DEFAULT\"\n",
    "    \"next_inputs\": string \\ a potentially modified version of the original input\n",
    "}}}}\n",
    "```\n",
    "\n",
    "REMEMBER: \"destination\" MUST be one of the candidate prompt \\\n",
    "names specified below OR it can be \"DEFAULT\" if the input is not\\\n",
    "well suited for any of the candidate prompts.\n",
    "REMEMBER: \"next_inputs\" can just be the original input \\\n",
    "if you don't think any modifications are needed.\n",
    "\n",
    "<< CANDIDATE PROMPTS >>\n",
    "{destinations}\n",
    "\n",
    "<< INPUT >>\n",
    "{{input}}\n",
    "\n",
    "<< OUTPUT (remember to include the ```json)>>\"\"\""
   ]
  },
  {
   "cell_type": "code",
   "execution_count": 26,
   "metadata": {},
   "outputs": [],
   "source": [
    "router_template = MULTI_PROMPT_ROUTER_TEMPLATE.format(\n",
    "    destinations=destinations_str\n",
    ")\n",
    "router_prompt = PromptTemplate(\n",
    "    template=router_template,\n",
    "    input_variables=[\"input\"],\n",
    "    output_parser=RouterOutputParser(), #This allows the system to know which chain to choose\n",
    ")\n",
    "\n",
    "router_chain = LLMRouterChain.from_llm(llm, router_prompt)"
   ]
  },
  {
   "cell_type": "code",
   "execution_count": 27,
   "metadata": {},
   "outputs": [],
   "source": [
    "chain = MultiPromptChain(router_chain=router_chain, \n",
    "                         destination_chains=destination_chains, \n",
    "                         default_chain=default_chain, verbose=True\n",
    "                        )"
   ]
  },
  {
   "cell_type": "code",
   "execution_count": 28,
   "metadata": {},
   "outputs": [
    {
     "name": "stdout",
     "output_type": "stream",
     "text": [
      "\n",
      "\n",
      "\u001b[1m> Entering new  chain...\u001b[0m\n"
     ]
    },
    {
     "name": "stderr",
     "output_type": "stream",
     "text": [
      "c:\\Users\\edwin\\anaconda3\\envs\\data_analysis\\lib\\site-packages\\langchain\\chains\\llm.py:275: UserWarning: The predict_and_parse method is deprecated, instead pass an output parser directly to LLMChain.\n",
      "  warnings.warn(\n",
      "Retrying langchain.chat_models.openai.ChatOpenAI.completion_with_retry.<locals>._completion_with_retry in 1.0 seconds as it raised APIConnectionError: Error communicating with OpenAI: ('Connection aborted.', RemoteDisconnected('Remote end closed connection without response')).\n"
     ]
    },
    {
     "name": "stdout",
     "output_type": "stream",
     "text": [
      "project management: {'input': 'A retail company called Real Plaza has given me a project of building an application in power apps. They want to build their apps as time efficient as possible. I was thinking of using SharePoint tables as a data source. Do you think it is the best idea?'}\n",
      "\u001b[1m> Finished chain.\u001b[0m\n"
     ]
    },
    {
     "data": {
      "text/plain": [
       "'As an AI language model, I cannot provide a definitive answer as I lack context and information about the specific requirements and constraints of the project. However, as a general suggestion, using SharePoint tables as a data source can be a good idea as it provides a centralized and secure location for data storage and management. It also allows for easy integration with other Microsoft applications such as Power Apps. However, it is important to consider other factors such as scalability, performance, and user experience when making a decision. It may be helpful to consult with other experts or conduct further research to determine the best approach for the project.'"
      ]
     },
     "execution_count": 28,
     "metadata": {},
     "output_type": "execute_result"
    }
   ],
   "source": [
    "chain.run(\"A retail company called Real Plaza has gave me a project of building an application in power apps. They want to build their apps as time efficient as possible. I was thinking of using sharepoint tables as data source. Do you think it is the best idea?\")"
   ]
  },
  {
   "cell_type": "code",
   "execution_count": 29,
   "metadata": {},
   "outputs": [
    {
     "name": "stdout",
     "output_type": "stream",
     "text": [
      "\n",
      "\n",
      "\u001b[1m> Entering new  chain...\u001b[0m\n",
      "None: {'input': 'Do you have the idea of scale for using sharepoint lists? What are the difference with dataverse?'}\n",
      "\u001b[1m> Finished chain.\u001b[0m\n"
     ]
    },
    {
     "data": {
      "text/plain": [
       "'As an AI language model, I do not have personal experience or opinions. However, I can provide you with some information on the idea of scale for using SharePoint lists and the differences with Dataverse.\\n\\nSharePoint lists are a popular way to store and manage data in SharePoint. They are easy to set up and can be customized to fit specific business needs. SharePoint lists can handle a large amount of data, but their performance can be affected if the list becomes too large or complex.\\n\\nDataverse, on the other hand, is a cloud-based data platform that is designed to handle large amounts of data and complex business logic. It is a more robust solution than SharePoint lists and is often used for enterprise-level applications. Dataverse provides more advanced features such as data validation, business rules, and workflows.\\n\\nIn summary, SharePoint lists are suitable for small to medium-sized data sets, while Dataverse is designed for larger and more complex data sets.'"
      ]
     },
     "execution_count": 29,
     "metadata": {},
     "output_type": "execute_result"
    }
   ],
   "source": [
    "chain.run(\"Do you have the idea of scale for using sharepoint lists? What are the difference with dataverse?\")"
   ]
  },
  {
   "cell_type": "code",
   "execution_count": 31,
   "metadata": {},
   "outputs": [
    {
     "name": "stdout",
     "output_type": "stream",
     "text": [
      "\n",
      "\n",
      "\u001b[1m> Entering new  chain...\u001b[0m\n",
      "project management: {'input': 'A retail company called Real Plaza has given me a project of building an application in power apps. They want to build their apps as time efficient as possible. Now, how can I start this project'}\n",
      "\u001b[1m> Finished chain.\u001b[0m\n"
     ]
    },
    {
     "data": {
      "text/plain": [
       "'?\\n\\nTo start this project, you should first gather all the necessary information about the requirements and objectives of the application from Real Plaza. This includes understanding the specific features and functionalities they want in the app, the target audience, and the timeline for completion.\\n\\nNext, you should analyze the current processes and workflows of the retail company to identify areas where the app can improve efficiency and save time. This will help you determine the scope of the project and prioritize the features that are most important.\\n\\nOnce you have a clear understanding of the requirements and scope, you can start designing the app using Power Apps. This involves creating a user-friendly interface, integrating data sources, and testing the app to ensure it meets the requirements and functions as intended.\\n\\nThroughout the project, it is important to communicate regularly with Real Plaza to ensure that the app is meeting their expectations and to address any issues or concerns that arise. By following these steps, you can build a time-efficient app that meets the needs of Real Plaza and their customers.'"
      ]
     },
     "execution_count": 31,
     "metadata": {},
     "output_type": "execute_result"
    }
   ],
   "source": [
    "chain.run(\"A retail company called Real Plaza has gave me a project of building an application in power apps. They want to build their apps as time efficient as possible. Now, how can I start this project\")"
   ]
  }
 ],
 "metadata": {
  "kernelspec": {
   "display_name": "data_analysis",
   "language": "python",
   "name": "python3"
  },
  "language_info": {
   "codemirror_mode": {
    "name": "ipython",
    "version": 3
   },
   "file_extension": ".py",
   "mimetype": "text/x-python",
   "name": "python",
   "nbconvert_exporter": "python",
   "pygments_lexer": "ipython3",
   "version": "3.10.11"
  },
  "orig_nbformat": 4
 },
 "nbformat": 4,
 "nbformat_minor": 2
}
