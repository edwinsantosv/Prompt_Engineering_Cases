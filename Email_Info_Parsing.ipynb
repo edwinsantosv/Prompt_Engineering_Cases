{
 "cells": [
  {
   "attachments": {},
   "cell_type": "markdown",
   "metadata": {},
   "source": [
    "# Get API Key and libraries"
   ]
  },
  {
   "cell_type": "code",
   "execution_count": 26,
   "metadata": {},
   "outputs": [],
   "source": [
    "import openai\n",
    "import os\n",
    "import json\n",
    "from langchain.chat_models import ChatOpenAI\n",
    "from langchain.prompts import ChatPromptTemplate\n",
    "from langchain.output_parsers import ResponseSchema\n",
    "from langchain.output_parsers import StructuredOutputParser\n",
    "from IPython.display import display, Markdown, Latex, HTML, JSON\n",
    "\n",
    "# Open the JSON file\n",
    "with open('/Users/edwin/Repositories/api_keys.json') as file:\n",
    "    data = json.load(file)\n",
    "\n",
    "# Access the API keys\n",
    "openai.api_key= data['apiKeys']['OpenAI']"
   ]
  },
  {
   "attachments": {},
   "cell_type": "markdown",
   "metadata": {},
   "source": [
    "# Define Functions"
   ]
  },
  {
   "attachments": {},
   "cell_type": "markdown",
   "metadata": {},
   "source": [
    "### get_completion to send direct messages to gpt endpoint"
   ]
  },
  {
   "cell_type": "code",
   "execution_count": 4,
   "metadata": {},
   "outputs": [],
   "source": [
    "def get_completion(prompt, model=\"gpt-3.5-turbo\"):\n",
    "    messages = [{\"role\": \"user\", \"content\": prompt}]\n",
    "    response = openai.ChatCompletion.create(\n",
    "        model=model,\n",
    "        messages=messages,\n",
    "        temperature=0, \n",
    "    )\n",
    "    return response.choices[0].message[\"content\"]"
   ]
  },
  {
   "attachments": {},
   "cell_type": "markdown",
   "metadata": {},
   "source": [
    "### Function for analyzing emails"
   ]
  },
  {
   "attachments": {},
   "cell_type": "markdown",
   "metadata": {},
   "source": [
    "First we define the instructions for receiving a json file as output."
   ]
  },
  {
   "cell_type": "code",
   "execution_count": 11,
   "metadata": {},
   "outputs": [
    {
     "name": "stdout",
     "output_type": "stream",
     "text": [
      "The output should be a markdown code snippet formatted in the following schema, including the leading and trailing \"```json\" and \"```\":\n",
      "\n",
      "```json\n",
      "{\n",
      "\t\"Sender\": string  // The name of the sender. If this information is not found, output unknown.\n",
      "\t\"Tone\": string  // Give me the tone. It can be negative, neutral or positive.\n",
      "\t\"Deliverables\": string  // Are there any deliverables in form of files that the sender is expecting from me to send?. If not, output No. If so, give me the names of the files expected to send with the file extension expected in               parenthesis. Everything sould be comma separated.\n",
      "\t\"Number of deliverables\": string  // Give me a list of the most important 5 tags to classify the email separated by commas\n",
      "\t\"Tags\": string  // Give me the tone. It can be negative, neutral or positive.\n",
      "\t\"Importance\": string  // Tell me the level of importance. Can be not important, medium, important and very important.\n",
      "\t\"Summary\": string  // Give me a brief description of what's on the email.\n",
      "\t\"Translation\": string  // Translate the summary of the email to spanish.\n",
      "}\n",
      "```\n"
     ]
    }
   ],
   "source": [
    "Sender = ResponseSchema(name=\"Sender\",\n",
    "                       description=\"The name of the sender. If this information is not found, output unknown.\")\n",
    "\n",
    "Tone = ResponseSchema(name=\"Tone\",\n",
    "                    description=\"Give me the tone. It can be negative, neutral or positive.\")\n",
    "\n",
    "Deliverables = ResponseSchema(name=\"Deliverables\",\n",
    "                                    description=\"Are there any deliverables in form of files that the sender is expecting from me to send?. If not, output No. If so, give me the names of the files expected to send with the file extension expected in \\\n",
    "              parenthesis. Everything sould be comma separated.\")\n",
    "\n",
    "Number_of_deliverables = ResponseSchema(name=\"Number of deliverables\",\n",
    "                    description=\"Give me a list of the most important 5 tags to classify the email separated by commas\")\n",
    "\n",
    "Tags = ResponseSchema(name=\"Tags\",\n",
    "                    description=\"Give me the tone. It can be negative, neutral or positive.\")\n",
    "\n",
    "Importance = ResponseSchema(name=\"Importance\",\n",
    "                    description=\"Tell me the level of importance. Can be not important, medium, important and very important.\")\n",
    "\n",
    "Summary = ResponseSchema(name=\"Summary\",\n",
    "                    description=\"Give me a brief description of what's on the email.\")\n",
    "\n",
    "Translation = ResponseSchema(name=\"Translation\",\n",
    "                    description=\"Translate the summary of the email to spanish.\")\n",
    "\n",
    "\n",
    "response_schemas = [Sender, \n",
    "                    Tone,\n",
    "                    Deliverables,\n",
    "                    Number_of_deliverables,\n",
    "                    Tags,\n",
    "                    Importance,\n",
    "                    Summary,\n",
    "                    Translation\n",
    "                    ]\n",
    "\n",
    "output_parser = StructuredOutputParser.from_response_schemas(response_schemas)\n",
    "\n",
    "format_instructions = output_parser.get_format_instructions()\n",
    "\n",
    "print(format_instructions)\n"
   ]
  },
  {
   "attachments": {},
   "cell_type": "markdown",
   "metadata": {},
   "source": [
    "Then we need to give the email to analyze"
   ]
  },
  {
   "cell_type": "code",
   "execution_count": 12,
   "metadata": {},
   "outputs": [],
   "source": [
    "email=\"\"\"\n",
    "Hi Edwin,\n",
    "\n",
    " \n",
    "\n",
    "Congratulations! We are so glad you will be joining our team as a Business Analyst. Your start date is scheduled to be Monday July 3rd.\n",
    "\n",
    " \n",
    "\n",
    "You will be receiving a separate email from Deel inviting you to review & sign your contract. Deel is the online platform we utilize for payments and to sending contracts compliantly. Attached is a tutorial on how to view the contract. Please look for the separate email from \"Alicia from Deel\" and reference the attached PDF for a step-by-step walkthrough. The video mentioned on page 1 of the document is very helpful.\n",
    "\n",
    " \n",
    "\n",
    "Please also send back the following:\n",
    "\n",
    "Staff Introduction: We will send out a new hire announcement on your first day. In preparation for this, could you please send back the following before EOD June 23rd:\n",
    "A short bio written in 3rd person (See attached example. Please keep it to 1 or 2 paragraphs and be sure to highlight your subject matter expertise!)\n",
    "1 headshot/candid photo (This will be used for your introduction and internal documents)\n",
    "1 video of you waving! (This can be about 10 seconds long and shot on your phone vertically and emailed over to us. See the attached example of what we will put together)\n",
    "Equipment: We will be connecting with our Tech Team to see what options are available for an extra SSD and will get back to you!\n",
    " \n",
    "\n",
    "Please let us know if you have any questions. I’ll be sending more information about your first day the week before your start date. 😊 Thanks and congratulations!\n",
    "\n",
    " \n",
    "\n",
    " \n",
    "\n",
    "stephanie reynolds | human resource & talent acquisition specialist | d. 201-216-4678\n",
    "2 University Plaza Drive, Suite 406, Hackensack, NJ 07601\n",
    "\n",
    "\"\"\""
   ]
  },
  {
   "attachments": {},
   "cell_type": "markdown",
   "metadata": {},
   "source": [
    "Finally we define the prompt"
   ]
  },
  {
   "cell_type": "code",
   "execution_count": 13,
   "metadata": {},
   "outputs": [
    {
     "name": "stdout",
     "output_type": "stream",
     "text": [
      "\n",
      "For the following email, extract the following information:\n",
      "\n",
      "Sender: The name of the sender. If this information is not found, output unknown.\n",
      "\n",
      "Tone: Give me the tone. It can be negative, neutral or positive.\n",
      "\n",
      "Deliverables: Are there any deliverables in form of files that the sender is expecting from me to send?. If not, output No. If so, give me the names of the files expected to send with the file extension expected in               parenthesis. Everything sould be comma separated.\n",
      "\n",
      "Number of deliverables: Return the number of deliverables expected. If there are not, return 0.\n",
      "\n",
      "Tags: Give me a list of the most important 5 tags to classify the email separated by commas. \n",
      "\n",
      "Importance: Tell me the level of importance. Can be not important, medium, important and very important.\n",
      "\n",
      "Summary: Give me a brief description of what's on the email. \n",
      "\n",
      "Translation: Translate the summary of the email to spanish.\n",
      "\n",
      "email: \n",
      "Hi Edwin,\n",
      "\n",
      " \n",
      "\n",
      "Congratulations! We are so glad you will be joining our team as a Business Analyst. Your start date is scheduled to be Monday July 3rd.\n",
      "\n",
      " \n",
      "\n",
      "You will be receiving a separate email from Deel inviting you to review & sign your contract. Deel is the online platform we utilize for payments and to sending contracts compliantly. Attached is a tutorial on how to view the contract. Please look for the separate email from \"Alicia from Deel\" and reference the attached PDF for a step-by-step walkthrough. The video mentioned on page 1 of the document is very helpful.\n",
      "\n",
      " \n",
      "\n",
      "Please also send back the following:\n",
      "\n",
      "Staff Introduction: We will send out a new hire announcement on your first day. In preparation for this, could you please send back the following before EOD June 23rd:\n",
      "A short bio written in 3rd person (See attached example. Please keep it to 1 or 2 paragraphs and be sure to highlight your subject matter expertise!)\n",
      "1 headshot/candid photo (This will be used for your introduction and internal documents)\n",
      "1 video of you waving! (This can be about 10 seconds long and shot on your phone vertically and emailed over to us. See the attached example of what we will put together)\n",
      "Equipment: We will be connecting with our Tech Team to see what options are available for an extra SSD and will get back to you!\n",
      " \n",
      "\n",
      "Please let us know if you have any questions. I’ll be sending more information about your first day the week before your start date. 😊 Thanks and congratulations!\n",
      "\n",
      " \n",
      "\n",
      " \n",
      "\n",
      "stephanie reynolds | human resource & talent acquisition specialist | d. 201-216-4678\n",
      "2 University Plaza Drive, Suite 406, Hackensack, NJ 07601\n",
      "\n",
      "\n",
      "\n",
      "The output should be a markdown code snippet formatted in the following schema, including the leading and trailing \"```json\" and \"```\":\n",
      "\n",
      "```json\n",
      "{\n",
      "\t\"Sender\": string  // The name of the sender. If this information is not found, output unknown.\n",
      "\t\"Tone\": string  // Give me the tone. It can be negative, neutral or positive.\n",
      "\t\"Deliverables\": string  // Are there any deliverables in form of files that the sender is expecting from me to send?. If not, output No. If so, give me the names of the files expected to send with the file extension expected in               parenthesis. Everything sould be comma separated.\n",
      "\t\"Number of deliverables\": string  // Give me a list of the most important 5 tags to classify the email separated by commas\n",
      "\t\"Tags\": string  // Give me the tone. It can be negative, neutral or positive.\n",
      "\t\"Importance\": string  // Tell me the level of importance. Can be not important, medium, important and very important.\n",
      "\t\"Summary\": string  // Give me a brief description of what's on the email.\n",
      "\t\"Translation\": string  // Translate the summary of the email to spanish.\n",
      "}\n",
      "```\n",
      "\n",
      "\n"
     ]
    }
   ],
   "source": [
    "template_email=\"\"\"\n",
    "For the following email, extract the following information:\n",
    "\n",
    "Sender: The name of the sender. If this information is not found, output unknown.\n",
    "\n",
    "Tone: Give me the tone. It can be negative, neutral or positive.\n",
    "\n",
    "Deliverables: Are there any deliverables in form of files that the sender is expecting from me to send?. If not, output No. If so, give me the names of the files expected to send with the file extension expected in \\\n",
    "              parenthesis. Everything sould be comma separated.\n",
    "\n",
    "Number of deliverables: Return the number of deliverables expected. If there are not, return 0.\n",
    "\n",
    "Tags: Give me a list of the most important 5 tags to classify the email separated by commas. \n",
    "\n",
    "Importance: Tell me the level of importance. Can be not important, medium, important and very important.\n",
    "\n",
    "Summary: Give me a brief description of what's on the email. \n",
    "\n",
    "Translation: Translate the summary of the email to spanish.\n",
    "\n",
    "email: {email}\n",
    "\n",
    "{format_instructions}\n",
    "\n",
    "\"\"\"\n",
    "prompt = ChatPromptTemplate.from_template(template=template_email)\n",
    "\n",
    "messages = prompt.format_messages(email=email, \n",
    "                                format_instructions=format_instructions)\n",
    "\n",
    "print(messages[0].content)"
   ]
  },
  {
   "cell_type": "code",
   "execution_count": 14,
   "metadata": {},
   "outputs": [
    {
     "name": "stdout",
     "output_type": "stream",
     "text": [
      "```json\n",
      "{\n",
      "\t\"Sender\": \"Stephanie Reynolds\",\n",
      "\t\"Tone\": \"Positive\",\n",
      "\t\"Deliverables\": \"Staff Introduction Example (PDF), Headshot/Candid Photo (.jpg), Video of waving (.mp4)\",\n",
      "\t\"Number of deliverables\": 3,\n",
      "\t\"Tags\": \"New Hire, Onboarding, Contract, Deliverables, Start Date\",\n",
      "\t\"Importance\": \"Medium\",\n",
      "\t\"Summary\": \"The email is congratulating Edwin on joining the team as a Business Analyst and providing information about his start date. The email also includes instructions for reviewing and signing the contract, as well as requests for a staff introduction, headshot, and video of waving.\",\n",
      "\t\"Translation\": \"El correo electrónico felicita a Edwin por unirse al equipo como Analista de Negocios y proporciona información sobre su fecha de inicio. El correo electrónico también incluye instrucciones para revisar y firmar el contrato, así como solicitudes de una introducción del personal, una foto de cabeza y un video saludando.\"\n",
      "}\n",
      "```\n"
     ]
    }
   ],
   "source": [
    "chat = ChatOpenAI(temperature=0.0,openai_api_key=data['apiKeys']['OpenAI'])\n",
    "response = chat(messages)\n",
    "print(response.content)"
   ]
  },
  {
   "cell_type": "code",
   "execution_count": 22,
   "metadata": {},
   "outputs": [
    {
     "data": {
      "text/plain": [
       "{'Sender': 'Stephanie Reynolds',\n",
       " 'Tone': 'Positive',\n",
       " 'Deliverables': 'Staff Introduction Example (PDF), Headshot/Candid Photo (.jpg), Video of waving (.mp4)',\n",
       " 'Number of deliverables': 3,\n",
       " 'Tags': 'New Hire, Onboarding, Contract, Deliverables, Start Date',\n",
       " 'Importance': 'Medium',\n",
       " 'Summary': 'The email is congratulating Edwin on joining the team as a Business Analyst and providing information about his start date. The email also includes instructions for reviewing and signing the contract, as well as requests for a staff introduction, headshot, and video of waving.',\n",
       " 'Translation': 'El correo electrónico felicita a Edwin por unirse al equipo como Analista de Negocios y proporciona información sobre su fecha de inicio. El correo electrónico también incluye instrucciones para revisar y firmar el contrato, así como solicitudes de una introducción del personal, una foto de cabeza y un video saludando.'}"
      ]
     },
     "execution_count": 22,
     "metadata": {},
     "output_type": "execute_result"
    }
   ],
   "source": [
    "output_dict = output_parser.parse(response.content)\n",
    "output_dict"
   ]
  },
  {
   "cell_type": "code",
   "execution_count": 16,
   "metadata": {},
   "outputs": [
    {
     "data": {
      "text/plain": [
       "'Medium'"
      ]
     },
     "execution_count": 16,
     "metadata": {},
     "output_type": "execute_result"
    }
   ],
   "source": [
    "output_dict.get('Importance')"
   ]
  },
  {
   "cell_type": "code",
   "execution_count": 24,
   "metadata": {},
   "outputs": [
    {
     "data": {
      "text/plain": [
       "'<table>\\n  <caption>Email Information</caption>\\n  <tr>\\n    <th>Sender</th>\\n    <th>Tone</th>\\n    <th>Deliverables</th>\\n    <th>Number of deliverables</th>\\n    <th>Tags</th>\\n    <th>Importance</th>\\n    <th>Summary</th>\\n    <th>Translation</th>\\n  </tr>\\n  <tr>\\n    <td>Stephanie Reynolds</td>\\n    <td>Positive</td>\\n    <td>Staff Introduction Example (PDF), Headshot/Candid Photo (.jpg), Video of waving (.mp4)</td>\\n    <td>3</td>\\n    <td>New Hire, Onboarding, Contract, Deliverables, Start Date</td>\\n    <td>Medium</td>\\n    <td>The email is congratulating Edwin on joining the team as a Business Analyst and providing information about his start date. The email also includes instructions for reviewing and signing the contract, as well as requests for a staff introduction, headshot, and video of waving.</td>\\n    <td>El correo electrónico felicita a Edwin por unirse al equipo como Analista de Negocios y proporciona información sobre su fecha de inicio. El correo electrónico también incluye instrucciones para revisar y firmar el contrato, así como solicitudes de una introducción del personal, una foto de cabeza y un video saludando.</td>\\n  </tr>\\n</table>'"
      ]
     },
     "execution_count": 24,
     "metadata": {},
     "output_type": "execute_result"
    }
   ],
   "source": [
    "html_table=get_completion(\n",
    "    f\"\"\"\n",
    "    Translate the following python dictionary from JSON to an HTML \\\n",
    "    table with column headers and title: {output_dict}\n",
    "    \"\"\"\n",
    ")\n",
    "html_table"
   ]
  },
  {
   "cell_type": "code",
   "execution_count": 27,
   "metadata": {},
   "outputs": [
    {
     "data": {
      "text/html": [
       "<table>\n",
       "  <caption>Email Information</caption>\n",
       "  <tr>\n",
       "    <th>Sender</th>\n",
       "    <th>Tone</th>\n",
       "    <th>Deliverables</th>\n",
       "    <th>Number of deliverables</th>\n",
       "    <th>Tags</th>\n",
       "    <th>Importance</th>\n",
       "    <th>Summary</th>\n",
       "    <th>Translation</th>\n",
       "  </tr>\n",
       "  <tr>\n",
       "    <td>Stephanie Reynolds</td>\n",
       "    <td>Positive</td>\n",
       "    <td>Staff Introduction Example (PDF), Headshot/Candid Photo (.jpg), Video of waving (.mp4)</td>\n",
       "    <td>3</td>\n",
       "    <td>New Hire, Onboarding, Contract, Deliverables, Start Date</td>\n",
       "    <td>Medium</td>\n",
       "    <td>The email is congratulating Edwin on joining the team as a Business Analyst and providing information about his start date. The email also includes instructions for reviewing and signing the contract, as well as requests for a staff introduction, headshot, and video of waving.</td>\n",
       "    <td>El correo electrónico felicita a Edwin por unirse al equipo como Analista de Negocios y proporciona información sobre su fecha de inicio. El correo electrónico también incluye instrucciones para revisar y firmar el contrato, así como solicitudes de una introducción del personal, una foto de cabeza y un video saludando.</td>\n",
       "  </tr>\n",
       "</table>"
      ],
      "text/plain": [
       "<IPython.core.display.HTML object>"
      ]
     },
     "metadata": {},
     "output_type": "display_data"
    }
   ],
   "source": [
    "display(HTML(html_table))"
   ]
  }
 ],
 "metadata": {
  "kernelspec": {
   "display_name": "data_analysis",
   "language": "python",
   "name": "python3"
  },
  "language_info": {
   "codemirror_mode": {
    "name": "ipython",
    "version": 3
   },
   "file_extension": ".py",
   "mimetype": "text/x-python",
   "name": "python",
   "nbconvert_exporter": "python",
   "pygments_lexer": "ipython3",
   "version": "3.10.11"
  },
  "orig_nbformat": 4
 },
 "nbformat": 4,
 "nbformat_minor": 2
}
