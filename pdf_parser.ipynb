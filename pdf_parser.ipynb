{
 "cells": [
  {
   "cell_type": "code",
   "execution_count": 2,
   "metadata": {},
   "outputs": [],
   "source": [
    "#!pip install pypdf\n",
    "#!pip install faiss-cpu"
   ]
  },
  {
   "attachments": {},
   "cell_type": "markdown",
   "metadata": {},
   "source": [
    "This code allows you to find relevant information in a pdf. It takes the document, divides it by page and then allows to find the most relevant ones."
   ]
  },
  {
   "cell_type": "code",
   "execution_count": 27,
   "metadata": {},
   "outputs": [],
   "source": [
    "import openai\n",
    "import os\n",
    "import json\n",
    "from langchain.chat_models import ChatOpenAI\n",
    "from langchain.prompts import ChatPromptTemplate\n",
    "from langchain.output_parsers import ResponseSchema\n",
    "from langchain.output_parsers import StructuredOutputParser\n",
    "from IPython.display import display, Markdown, Latex, HTML, JSON\n",
    "from langchain.document_loaders import PyPDFLoader\n",
    "import getpass\n",
    "from langchain.vectorstores import FAISS\n",
    "from langchain.embeddings.openai import OpenAIEmbeddings\n",
    "from langchain.chains import RetrievalQA\n",
    "from langchain.vectorstores import DocArrayInMemorySearch\n",
    "from langchain.document_loaders import UnstructuredPDFLoader \n",
    "\n",
    "# Open the JSON file\n",
    "with open('/Users/edwin/Repositories/api_keys.json') as file:\n",
    "    data = json.load(file)\n",
    "\n",
    "# Access the API keys\n",
    "openai.api_key= data['apiKeys']['OpenAI']\n",
    "\n",
    "os.environ[\"OPENAI_API_KEY\"] = data['apiKeys']['OpenAI']"
   ]
  },
  {
   "attachments": {},
   "cell_type": "markdown",
   "metadata": {},
   "source": [
    "# Setting up llm"
   ]
  },
  {
   "cell_type": "code",
   "execution_count": 14,
   "metadata": {},
   "outputs": [],
   "source": [
    "llm = ChatOpenAI(temperature=0, model_name=\"gpt-3.5-turbo\", max_tokens=50)"
   ]
  },
  {
   "attachments": {},
   "cell_type": "markdown",
   "metadata": {},
   "source": [
    "# Reading pdf"
   ]
  },
  {
   "cell_type": "code",
   "execution_count": 4,
   "metadata": {},
   "outputs": [],
   "source": [
    "loader = PyPDFLoader('/Users/edwin/Repositories/Chatgpt/sample_documents/matecconf_d2me2018_02006.pdf')\n",
    "pages = loader.load_and_split()"
   ]
  },
  {
   "cell_type": "code",
   "execution_count": 5,
   "metadata": {},
   "outputs": [
    {
     "data": {
      "text/plain": [
       "Document(page_content='Polymer Composite Manufactur ing by FDM 3D Printing \\nTechnology \\nKatarzyna Bryll1,a, Elżbieta Piesowicz2, Paweł Szymański3, Wojciech Ślączka4 and Marek Pijanowski1 \\n1Institute of Basic Technical Sciences, Faculty of Marine Engineering, Maritime Univer sity of Szczecin, ul. Waly \\nChrobrego 1-2, 70-500 Szczecin, Poland \\n2 Institute of Materials Science and Engineering, Facul ty of Mechanical Engineering and Mechatronics, West \\nPomeranian University of Technology, Al. Piastów 19, 70-310 Szczecin, Poland. \\n3 Institute of Materials Technology, Faculty of of Machine Construction and Management, Poznan University of \\nTechnology ul. Piotrowo 3, 60-965 Poznan, \\n4 Maritime Risk Analisis Center, , Facul ty of Navigation, Maritime University of  Szczecin ul. Waly Chrobrego 1-2, 70-\\n500 Szczecin, Poland \\nAbstract.  3D printing technology was developed nearly 30 years ago. One of its characteristics \\nis that instead of removing materials, 3D printing creates 3D elements directly from CAD models, adding one layer of material on another. This offers a beneficial capability of making \\ncomplex elements in terms of shape and materials, impossible to be manufactured by \\ntraditional methods. Owing to intensive research in recent years, considerable progress has \\nbeen achieved in the development and commercialisation of new innovative processes of 3D \\nprinting by fused deposition modeling (FDM), including printing of composite materials. The \\nstudy outlines the main methods of creating polymer composite structures using FDM technology. \\n1 Introduction \\nThe idea of 3D printing has been known for decades [1]. Additive manufacturing is today used for \\nmaking tools and rapid prototypes at the design and construction stage in aviation, automobile and \\nmilitary industries, architecture, medicine, goldsmit hing, food and footwear industries, where in a \\nrelatively short time a real model can be made to be presented, apart from printed documentation, to a \\ncustomer or sponsor. The development of 3D pr inting technology has enabled making prototypes as \\nwell as spare parts or complete devices with attractive properties, usually of small size. 3D printers in \\nmedicine are used for printing prosthetics, implants, and bioprints using cells (wound healing) [1-5]. \\nExtended applicability and wider dissemination of 3D printing, as well as higher performance \\nrequirements necessitate seeking multimaterial solutions and use of state-of-the-art composites [2-9]. \\nComposite properties depend on many factors, i.e. properties of component phases, their relative \\nquantities and geometry (particle size,  shape, orientation and distribution of the reinforcement phase \\nin the matrix) as well as the strength of inter facial boundaries or production methods [10]. \\nThis study reviews the state of the ar t in FDM printing of composite materials. \\n                                                 \\na Corresponding author : k.bryll@am.szczecin.pl \\n   © The Authors, published by EDP Sciences. This is an open access article distributed under  the terms of  the Creative\\nCommons Attribution  License 4.0 (http://creativecommons.org/licenses/by/4.0/).  ,0 (2018)\\n2018https://doi.org/10.1051/matecconf  /201823702006 MATEC Web of Conferences 237\\nD2ME 2006', metadata={'source': '/Users/edwin/Repositories/Chatgpt/sample_documents/matecconf_d2me2018_02006.pdf', 'page': 0})"
      ]
     },
     "execution_count": 5,
     "metadata": {},
     "output_type": "execute_result"
    }
   ],
   "source": [
    "pages[0]"
   ]
  },
  {
   "attachments": {},
   "cell_type": "markdown",
   "metadata": {},
   "source": [
    "# Asking questions about it"
   ]
  },
  {
   "attachments": {},
   "cell_type": "markdown",
   "metadata": {},
   "source": [
    "## Getting the most relevant cases"
   ]
  },
  {
   "cell_type": "code",
   "execution_count": 30,
   "metadata": {},
   "outputs": [
    {
     "name": "stderr",
     "output_type": "stream",
     "text": [
      "Retrying langchain.embeddings.openai.embed_with_retry.<locals>._embed_with_retry in 4.0 seconds as it raised APIConnectionError: Error communicating with OpenAI: ('Connection aborted.', RemoteDisconnected('Remote end closed connection without response')).\n"
     ]
    },
    {
     "name": "stdout",
     "output_type": "stream",
     "text": [
      "1: 2 Fused deposition modeling (FDM) \n",
      "FDM technology also known as fused filament fabrication (FFF) is currently the most widespread way \n",
      "to rapid production of items utilizing additive ma nufacturing [1-5]. This method is a well-known \n",
      "technology patented in 1989 by Scott Crump, a co-founder of the Stratasys company [1]. \n",
      "3D printing by FDM consists in depositing a filament of thermoplastic material. A portion of \n",
      "filament from a reel passes through a hot head, wi th a temperature higher than the melting point of the \n",
      "filament, then is extruded in the XY plane crea ting a layer of solid material on the build plate. \n",
      "Creating a model can be done by depositing a layer contour, then filling the inside with plasticized \n",
      "material by zigzag movement of the head. After printing one layer the head moves along the Z axis initiating the build-up of the next layer. Using th is technique, we can create complex shapes with a \n",
      "minimum of preparatory processes. The production pr ocess begins with creating a model in the CAD \n",
      "program, then the model is incorporated into the program enabling control of process parameters such \n",
      "as head movement, feed rate, layer thickness, in fill, head and table temperatures, slicing, support \n",
      "application, etc. Such a program generates a G-code, which uploaded in a 3D printer enables making a \n",
      "real model. The model removed from the printer need s finish machining, for instance to remove the \n",
      "supports and imperfections [2-9]. \n",
      "The diagram of 3D printing procedure by FDM method is shown in Fig. 1. \n",
      " \n",
      " \n",
      "Figure. 1.  Procedure of FDM printing \n",
      "The most common drawbacks associated with FDM technology include [2-9]: \n",
      "- stepped layers - visible paths of the deposited m aterial due to a certain distance between edges of \n",
      "subsequent layers. This effect can be minimised by printing lower layers as well as reducing the diameter of the extruder (which will extend the process and raise the cost).  \n",
      "- overhang and bridging - printing of each model begins from the fi\n",
      "5: 4. Summary \n",
      "3D printing enables making single pieces of complex parts based on a CAD model without the use of \n",
      "expensive tools or moulds. The development of this technology results in prints in different areas of \n",
      "life. Of a few 3D printing systems, the one based on FDM modelling is particu larly widespread thanks \n",
      "to the simplicity and capabilities of the method. Other advantages include prices of the printers \n",
      "dropping, better software and a broadening scope of  materials used, including composites, improving \n",
      "mechanical properties of 3D prints. \n",
      "The literature on the subject [2-22] contains numerous publications addressing 3D printing of \n",
      "composite materials. Various types of reinforcemen t can be used, for instance carbon structures \n",
      "[14,16-17] reinforcing plates [11]  and short fibres: carbon [14], polymer [15] and glass [18]. \n",
      "However, the majority of research refers to the preparation and printing of composites from \n",
      "filament. Other methods using 3D printing with two heads are mentioned in few publications [7, 18-\n",
      "19]. These composites usually show worse mechanical properties compared to composites produced \n",
      "by conventional methods, because composites r einforced with short fibres or particles are \n",
      "mechanically worse than those strengthened with continuous fibres [20-22]. That is why 3D printing using continuous fibres is an interesting solution [ 23-24]. 3D printed composites are designed to make \n",
      "elements of high electric conductivity [13,17], low coefficient of thermal expansion and high thermal conductivity [22]. \n",
      "Despite increased interest in printing compos ite materials and many publications on the \n",
      "developments of this technology, there are still numerous issues requiring further analysis. Essential \n",
      "technical problems to be solved are ass ociated with intermittent printing or  filament changes. It is also \n",
      "necessary to seek new material connections and adapt them for printing, provided that such solutions \n",
      "are cost-effective and environmentally accep\n"
     ]
    }
   ],
   "source": [
    "faiss_index = FAISS.from_documents(pages, OpenAIEmbeddings())\n",
    "docs = faiss_index.similarity_search(\"what are the drawbacks of fdm?\", k=2) #you could ask for the 2 most relevant cases\n",
    "for doc in docs:\n",
    "    print(str(doc.metadata[\"page\"]) + \":\", doc.page_content[:2000])"
   ]
  }
 ],
 "metadata": {
  "kernelspec": {
   "display_name": "data_analysis",
   "language": "python",
   "name": "python3"
  },
  "language_info": {
   "codemirror_mode": {
    "name": "ipython",
    "version": 3
   },
   "file_extension": ".py",
   "mimetype": "text/x-python",
   "name": "python",
   "nbconvert_exporter": "python",
   "pygments_lexer": "ipython3",
   "version": "3.10.11"
  },
  "orig_nbformat": 4
 },
 "nbformat": 4,
 "nbformat_minor": 2
}
